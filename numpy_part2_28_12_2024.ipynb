{
 "cells": [
  {
   "cell_type": "markdown",
   "id": "a95b9f36-bca9-48d8-a346-a49c2de7ecdd",
   "metadata": {},
   "source": [
    "### Indexing"
   ]
  },
  {
   "cell_type": "code",
   "execution_count": 1,
   "id": "475303e5-a069-4c8a-8d2f-962f5b42efb1",
   "metadata": {},
   "outputs": [
    {
     "name": "stdout",
     "output_type": "stream",
     "text": [
      "[ 1  2  3 10 20 15]\n",
      "[[23 89 90]\n",
      " [23 92 12]\n",
      " [23 14 90]]\n",
      "[[[ 1  2  3]\n",
      "  [ 4  5  6]]\n",
      "\n",
      " [[ 7  8  9]\n",
      "  [10 11 12]]]\n"
     ]
    }
   ],
   "source": [
    "import numpy as np\n",
    "arr1=np.array([1,2,3,10,20,15])\n",
    "print(arr1)\n",
    "arr2=np.array([[23,89,90],[23,92,12],[23,14,90]])\n",
    "print(arr2)\n",
    "arr3=np.array([[[1,2,3],[4,5,6]],[[7,8,9],[10,11,12]]])\n",
    "print(arr3)"
   ]
  },
  {
   "cell_type": "code",
   "execution_count": 2,
   "id": "9eab64ba-2d21-4e22-b30b-8f4c59016328",
   "metadata": {},
   "outputs": [
    {
     "data": {
      "text/plain": [
       "array([ 1,  2,  3, 10, 20, 15])"
      ]
     },
     "execution_count": 2,
     "metadata": {},
     "output_type": "execute_result"
    }
   ],
   "source": [
    "arr1#arr[index]"
   ]
  },
  {
   "cell_type": "code",
   "execution_count": 3,
   "id": "a4cd12a0-33e8-4098-b9b1-decc6d4ef201",
   "metadata": {},
   "outputs": [
    {
     "data": {
      "text/plain": [
       "20"
      ]
     },
     "execution_count": 3,
     "metadata": {},
     "output_type": "execute_result"
    }
   ],
   "source": [
    "arr1[4]  # positive indexing  / forward indexing"
   ]
  },
  {
   "cell_type": "code",
   "execution_count": 5,
   "id": "1441f79f-d3d8-4f17-ba12-cfe95f05998b",
   "metadata": {},
   "outputs": [
    {
     "data": {
      "text/plain": [
       "20"
      ]
     },
     "execution_count": 5,
     "metadata": {},
     "output_type": "execute_result"
    }
   ],
   "source": [
    "arr1[-2]   # negative indexing  / bacjward indexing"
   ]
  },
  {
   "cell_type": "code",
   "execution_count": 6,
   "id": "8af08cac-4a71-4d6f-b6d0-d89f3121e7e3",
   "metadata": {},
   "outputs": [
    {
     "data": {
      "text/plain": [
       "array([[23, 89, 90],\n",
       "       [23, 92, 12],\n",
       "       [23, 14, 90]])"
      ]
     },
     "execution_count": 6,
     "metadata": {},
     "output_type": "execute_result"
    }
   ],
   "source": [
    "# indexing for 2-D array\n",
    "# arr2[row,coloumn]\n",
    "\n",
    "arr2"
   ]
  },
  {
   "cell_type": "code",
   "execution_count": 7,
   "id": "f0007661-d771-4c64-b030-02258fd40467",
   "metadata": {},
   "outputs": [
    {
     "data": {
      "text/plain": [
       "92"
      ]
     },
     "execution_count": 7,
     "metadata": {},
     "output_type": "execute_result"
    }
   ],
   "source": [
    "arr2[1,1]"
   ]
  },
  {
   "cell_type": "code",
   "execution_count": 8,
   "id": "2d6db27a-3d6d-4474-a6a8-133967a7fafc",
   "metadata": {},
   "outputs": [
    {
     "data": {
      "text/plain": [
       "90"
      ]
     },
     "execution_count": 8,
     "metadata": {},
     "output_type": "execute_result"
    }
   ],
   "source": [
    "arr2[0,2]"
   ]
  },
  {
   "cell_type": "code",
   "execution_count": 9,
   "id": "46147f99-bfed-4e35-a2cd-8fe14f84ea1e",
   "metadata": {},
   "outputs": [
    {
     "data": {
      "text/plain": [
       "90"
      ]
     },
     "execution_count": 9,
     "metadata": {},
     "output_type": "execute_result"
    }
   ],
   "source": [
    "arr2[-1,-1]"
   ]
  },
  {
   "cell_type": "code",
   "execution_count": 10,
   "id": "4b7b3136-0f40-4ddd-8a07-44b79c67a244",
   "metadata": {},
   "outputs": [
    {
     "data": {
      "text/plain": [
       "array([[[ 1,  2,  3],\n",
       "        [ 4,  5,  6]],\n",
       "\n",
       "       [[ 7,  8,  9],\n",
       "        [10, 11, 12]]])"
      ]
     },
     "execution_count": 10,
     "metadata": {},
     "output_type": "execute_result"
    }
   ],
   "source": [
    "arr3"
   ]
  },
  {
   "cell_type": "code",
   "execution_count": 12,
   "id": "914438dc-9230-4848-a94f-17964d7a0107",
   "metadata": {},
   "outputs": [
    {
     "data": {
      "text/plain": [
       "5"
      ]
     },
     "execution_count": 12,
     "metadata": {},
     "output_type": "execute_result"
    }
   ],
   "source": [
    "# indexing for 3-D array\n",
    "\n",
    "# arr3[layer,row,column]\n",
    "\n",
    "arr3[0,1,1]"
   ]
  },
  {
   "cell_type": "code",
   "execution_count": 13,
   "id": "e96dbd84-e650-443a-a4af-1d0bc942f563",
   "metadata": {},
   "outputs": [
    {
     "data": {
      "text/plain": [
       "9"
      ]
     },
     "execution_count": 13,
     "metadata": {},
     "output_type": "execute_result"
    }
   ],
   "source": [
    "arr3[1,0,2]"
   ]
  },
  {
   "cell_type": "markdown",
   "id": "45f88104-5ad8-4a64-9fb2-6dc7b644de83",
   "metadata": {},
   "source": [
    "### Slicing"
   ]
  },
  {
   "cell_type": "code",
   "execution_count": 19,
   "id": "9986288c-09ea-41b0-b420-2c2a6499e0dd",
   "metadata": {},
   "outputs": [
    {
     "name": "stdout",
     "output_type": "stream",
     "text": [
      "[ 1  2  3 10 20 15]\n"
     ]
    },
    {
     "data": {
      "text/plain": [
       "6"
      ]
     },
     "execution_count": 19,
     "metadata": {},
     "output_type": "execute_result"
    }
   ],
   "source": [
    "#for 1D array its similar to normal indexing arr[start:stop:step]\n",
    "print(arr1)\n",
    "len(arr1)"
   ]
  },
  {
   "cell_type": "code",
   "execution_count": 20,
   "id": "a10f3ff6-1dd8-4645-874b-4f128c3de1aa",
   "metadata": {},
   "outputs": [
    {
     "name": "stdout",
     "output_type": "stream",
     "text": [
      "[ 1  2  3 10 20 15]\n",
      "[ 2  3 10 20]\n"
     ]
    }
   ],
   "source": [
    "print(arr1[:])\n",
    "print(arr1[1:len(arr1)-1])"
   ]
  },
  {
   "cell_type": "code",
   "execution_count": 21,
   "id": "81c7b1c9-955b-4a7f-ae40-2ee893e4933d",
   "metadata": {},
   "outputs": [
    {
     "name": "stdout",
     "output_type": "stream",
     "text": [
      "[ 1  3 20]\n"
     ]
    }
   ],
   "source": [
    "print(arr1[::2])   # (start:stop-1:step)"
   ]
  },
  {
   "cell_type": "code",
   "execution_count": 22,
   "id": "233225d7-bd74-42dc-ab8d-507be479f0d1",
   "metadata": {},
   "outputs": [
    {
     "name": "stdout",
     "output_type": "stream",
     "text": [
      "[ 1 10]\n"
     ]
    }
   ],
   "source": [
    "print(arr1[::3])"
   ]
  },
  {
   "cell_type": "code",
   "execution_count": 24,
   "id": "e736888b-c71c-41aa-b876-959935dbab39",
   "metadata": {},
   "outputs": [
    {
     "name": "stdout",
     "output_type": "stream",
     "text": [
      "[ 1  2  3 10 20 15]\n"
     ]
    }
   ],
   "source": [
    "print(arr1[::1])"
   ]
  },
  {
   "cell_type": "code",
   "execution_count": 25,
   "id": "4281fb6e-2161-4abd-a238-e93db587ddd8",
   "metadata": {},
   "outputs": [
    {
     "name": "stdout",
     "output_type": "stream",
     "text": [
      "[15 20 10  3  2  1]\n"
     ]
    }
   ],
   "source": [
    "print(arr1[::-1])  # reverse order"
   ]
  },
  {
   "cell_type": "code",
   "execution_count": 26,
   "id": "1f7ccdea-3281-40de-aa8c-f2d5c571620e",
   "metadata": {},
   "outputs": [
    {
     "name": "stdout",
     "output_type": "stream",
     "text": [
      "[15 10  2]\n"
     ]
    }
   ],
   "source": [
    "print(arr1[::-2])"
   ]
  },
  {
   "cell_type": "code",
   "execution_count": 28,
   "id": "997979bc-9d68-4267-9bb4-75ab863afb19",
   "metadata": {},
   "outputs": [
    {
     "name": "stdout",
     "output_type": "stream",
     "text": [
      "[10 20 15]\n",
      "[10 20]\n"
     ]
    }
   ],
   "source": [
    "print(arr1[3:6])   # positive slicing\n",
    "print(arr1[-3:-1])   # negative slicing"
   ]
  },
  {
   "cell_type": "code",
   "execution_count": 29,
   "id": "b68f761f-b670-449b-9e89-1f3f550c28ec",
   "metadata": {},
   "outputs": [
    {
     "data": {
      "text/plain": [
       "array([[23, 89, 90],\n",
       "       [23, 92, 12],\n",
       "       [23, 14, 90]])"
      ]
     },
     "execution_count": 29,
     "metadata": {},
     "output_type": "execute_result"
    }
   ],
   "source": [
    "# slicing using 2D array\n",
    "\n",
    "arr2"
   ]
  },
  {
   "cell_type": "code",
   "execution_count": 30,
   "id": "28e2c5d9-9b42-48a1-993d-191d033873b2",
   "metadata": {},
   "outputs": [],
   "source": [
    "# arr2[row,colomn]  ---> arr2[:,:]"
   ]
  },
  {
   "cell_type": "code",
   "execution_count": 31,
   "id": "233eb03f-60a9-4404-8459-3ddac9953f11",
   "metadata": {},
   "outputs": [
    {
     "data": {
      "text/plain": [
       "array([[92, 12],\n",
       "       [14, 90]])"
      ]
     },
     "execution_count": 31,
     "metadata": {},
     "output_type": "execute_result"
    }
   ],
   "source": [
    "arr2[1:3,1:3]"
   ]
  },
  {
   "cell_type": "code",
   "execution_count": 32,
   "id": "15134272-2b55-47d3-8ba7-408096365d36",
   "metadata": {},
   "outputs": [
    {
     "data": {
      "text/plain": [
       "array([[23, 89, 90],\n",
       "       [23, 92, 12],\n",
       "       [23, 14, 90]])"
      ]
     },
     "execution_count": 32,
     "metadata": {},
     "output_type": "execute_result"
    }
   ],
   "source": [
    "arr2"
   ]
  },
  {
   "cell_type": "code",
   "execution_count": 34,
   "id": "db2a6c03-a2d5-4d12-82e8-4469a761f436",
   "metadata": {},
   "outputs": [
    {
     "data": {
      "text/plain": [
       "array([[89, 90],\n",
       "       [14, 90]])"
      ]
     },
     "execution_count": 34,
     "metadata": {},
     "output_type": "execute_result"
    }
   ],
   "source": [
    "arr2[0:3:2,1:]"
   ]
  },
  {
   "cell_type": "code",
   "execution_count": 38,
   "id": "8ce260a9-9bd3-4729-8c46-1b18c269cd57",
   "metadata": {},
   "outputs": [
    {
     "data": {
      "text/plain": [
       "array([[23, 89],\n",
       "       [23, 14]])"
      ]
     },
     "execution_count": 38,
     "metadata": {},
     "output_type": "execute_result"
    }
   ],
   "source": [
    "arr2[0:3:2,:2]"
   ]
  },
  {
   "cell_type": "code",
   "execution_count": 39,
   "id": "c932b702-8b39-4208-8d92-8e5ff207b06b",
   "metadata": {},
   "outputs": [
    {
     "data": {
      "text/plain": [
       "array([23, 92, 12])"
      ]
     },
     "execution_count": 39,
     "metadata": {},
     "output_type": "execute_result"
    }
   ],
   "source": [
    "#2D slicing[row->start:stop:step,column->start:stop:step]\n",
    "arr2[1]"
   ]
  },
  {
   "cell_type": "code",
   "execution_count": 40,
   "id": "21d52e9f-4d33-432c-9fd6-de6fca06cfaa",
   "metadata": {},
   "outputs": [
    {
     "data": {
      "text/plain": [
       "array([[[ 1,  2,  3],\n",
       "        [ 4,  5,  6]],\n",
       "\n",
       "       [[ 7,  8,  9],\n",
       "        [10, 11, 12]]])"
      ]
     },
     "execution_count": 40,
     "metadata": {},
     "output_type": "execute_result"
    }
   ],
   "source": [
    "# 3D slicing :\n",
    "\n",
    "arr3#arr[layer->start:stop:end,row->start:stop:step,column->start:stop:step]"
   ]
  },
  {
   "cell_type": "code",
   "execution_count": 42,
   "id": "49f05994-ca7b-413a-912c-c28ee4ea2195",
   "metadata": {},
   "outputs": [
    {
     "data": {
      "text/plain": [
       "12"
      ]
     },
     "execution_count": 42,
     "metadata": {},
     "output_type": "execute_result"
    }
   ],
   "source": [
    "arr3[-1,-1,-1]"
   ]
  },
  {
   "cell_type": "code",
   "execution_count": 45,
   "id": "86629b88-fbb3-4c97-96b7-bba770586192",
   "metadata": {},
   "outputs": [
    {
     "data": {
      "text/plain": [
       "array([[2, 3],\n",
       "       [5, 6]])"
      ]
     },
     "execution_count": 45,
     "metadata": {},
     "output_type": "execute_result"
    }
   ],
   "source": [
    "arr3[0,0:2,1:3]"
   ]
  },
  {
   "cell_type": "code",
   "execution_count": 48,
   "id": "5aa25b41-4bc7-4041-a564-4bde57f3d4d7",
   "metadata": {},
   "outputs": [],
   "source": [
    "arr4=np.array([[[[1,2,3],[4,5,6]],[[7,8,9],[10,11,12]]],[[[1,2,3],[4,5,6]],[[7,8,9],[10,11,12]]]])"
   ]
  },
  {
   "cell_type": "code",
   "execution_count": 49,
   "id": "9b8ad34f-d7b0-44f4-9758-a10720871e59",
   "metadata": {},
   "outputs": [
    {
     "data": {
      "text/plain": [
       "array([[[[ 1,  2,  3],\n",
       "         [ 4,  5,  6]],\n",
       "\n",
       "        [[ 7,  8,  9],\n",
       "         [10, 11, 12]]],\n",
       "\n",
       "\n",
       "       [[[ 1,  2,  3],\n",
       "         [ 4,  5,  6]],\n",
       "\n",
       "        [[ 7,  8,  9],\n",
       "         [10, 11, 12]]]])"
      ]
     },
     "execution_count": 49,
     "metadata": {},
     "output_type": "execute_result"
    }
   ],
   "source": [
    "arr4"
   ]
  },
  {
   "cell_type": "code",
   "execution_count": 50,
   "id": "109f75c9-f524-42d4-9939-3993a6deea6b",
   "metadata": {},
   "outputs": [
    {
     "data": {
      "text/plain": [
       "(2, 2, 2, 3)"
      ]
     },
     "execution_count": 50,
     "metadata": {},
     "output_type": "execute_result"
    }
   ],
   "source": [
    "arr4.shape"
   ]
  },
  {
   "cell_type": "code",
   "execution_count": null,
   "id": "4dd86179-81ee-483c-add5-88063656be30",
   "metadata": {},
   "outputs": [],
   "source": []
  }
 ],
 "metadata": {
  "kernelspec": {
   "display_name": "Python 3 (ipykernel)",
   "language": "python",
   "name": "python3"
  },
  "language_info": {
   "codemirror_mode": {
    "name": "ipython",
    "version": 3
   },
   "file_extension": ".py",
   "mimetype": "text/x-python",
   "name": "python",
   "nbconvert_exporter": "python",
   "pygments_lexer": "ipython3",
   "version": "3.12.4"
  }
 },
 "nbformat": 4,
 "nbformat_minor": 5
}
